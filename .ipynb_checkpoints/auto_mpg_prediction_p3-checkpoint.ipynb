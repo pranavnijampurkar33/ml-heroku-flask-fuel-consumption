{
 "cells": [
  {
   "cell_type": "markdown",
   "id": "38bd5e1c-49eb-4caf-8e9a-c6c85f45fdf6",
   "metadata": {},
   "source": [
    "# Selecting and Training Models\n",
    "\n",
    "1. Select and Train a few Algorithms(Linear Regression, Decision Tree, RandomForest)\n",
    "2. Evaluation using Mean Squared Error\n",
    "3. Model Evaluation using Cross Validation\n",
    "4. Hyperparameter Tuning using GridSearchCV\n",
    "5. Check Feature Importance\n",
    "6. Evaluate the Final System on test data\n",
    "7. Saving the Model\n"
   ]
  },
  {
   "cell_type": "code",
   "execution_count": 11,
   "id": "443a47ca-e736-47fd-a987-a579eda96029",
   "metadata": {},
   "outputs": [],
   "source": [
    "##importing a few general use case libraries\n",
    "import numpy as np\n",
    "import pandas as pd\n",
    "import matplotlib.pyplot as plt\n",
    "import seaborn as sns\n",
    "\n",
    "from sklearn.model_selection import StratifiedShuffleSplit\n",
    "from sklearn.base import BaseEstimator, TransformerMixin\n",
    "from sklearn.pipeline import Pipeline\n",
    "\n",
    "from sklearn.impute import SimpleImputer\n",
    "from sklearn.preprocessing import StandardScaler, OneHotEncoder\n",
    "from sklearn.compose import ColumnTransformer\n",
    "\n",
    "\n",
    "import warnings\n",
    "warnings.filterwarnings('ignore')"
   ]
  },
  {
   "cell_type": "code",
   "execution_count": 12,
   "id": "ad8c4e3e-f49d-42d2-a119-47e0d3dad405",
   "metadata": {},
   "outputs": [],
   "source": [
    "# reading the .data file using pandas\n",
    "\n",
    "cols = ['MPG','Cylinders','Displacement','Horsepower','Weight',\n",
    "                'Acceleration', 'Model Year', 'Origin']\n",
    "\n",
    "df = pd.read_csv('./auto-mpg.data', names=cols, na_values = \"?\",\n",
    "                comment = '\\t',\n",
    "                sep= \" \",\n",
    "                skipinitialspace=True)\n",
    "\n",
    "data = df.copy()\n",
    "\n",
    "split = StratifiedShuffleSplit(n_splits=1, test_size=0.2, random_state=42)\n",
    "for train_index, test_index in split.split(data, data[\"Cylinders\"]):\n",
    "    strat_train_set = data.loc[train_index]\n",
    "    strat_test_set = data.loc[test_index]"
   ]
  },
  {
   "cell_type": "code",
   "execution_count": 13,
   "id": "8b9765f6-71b2-474b-b734-565384c9fd81",
   "metadata": {},
   "outputs": [
    {
     "data": {
      "text/html": [
       "<div>\n",
       "<style scoped>\n",
       "    .dataframe tbody tr th:only-of-type {\n",
       "        vertical-align: middle;\n",
       "    }\n",
       "\n",
       "    .dataframe tbody tr th {\n",
       "        vertical-align: top;\n",
       "    }\n",
       "\n",
       "    .dataframe thead th {\n",
       "        text-align: right;\n",
       "    }\n",
       "</style>\n",
       "<table border=\"1\" class=\"dataframe\">\n",
       "  <thead>\n",
       "    <tr style=\"text-align: right;\">\n",
       "      <th></th>\n",
       "      <th>Cylinders</th>\n",
       "      <th>Displacement</th>\n",
       "      <th>Horsepower</th>\n",
       "      <th>Weight</th>\n",
       "      <th>Acceleration</th>\n",
       "      <th>Model Year</th>\n",
       "      <th>Origin</th>\n",
       "    </tr>\n",
       "  </thead>\n",
       "  <tbody>\n",
       "    <tr>\n",
       "      <th>145</th>\n",
       "      <td>4</td>\n",
       "      <td>83.0</td>\n",
       "      <td>61.0</td>\n",
       "      <td>2003.0</td>\n",
       "      <td>19.0</td>\n",
       "      <td>74</td>\n",
       "      <td>3</td>\n",
       "    </tr>\n",
       "    <tr>\n",
       "      <th>151</th>\n",
       "      <td>4</td>\n",
       "      <td>79.0</td>\n",
       "      <td>67.0</td>\n",
       "      <td>2000.0</td>\n",
       "      <td>16.0</td>\n",
       "      <td>74</td>\n",
       "      <td>2</td>\n",
       "    </tr>\n",
       "    <tr>\n",
       "      <th>388</th>\n",
       "      <td>4</td>\n",
       "      <td>156.0</td>\n",
       "      <td>92.0</td>\n",
       "      <td>2585.0</td>\n",
       "      <td>14.5</td>\n",
       "      <td>82</td>\n",
       "      <td>1</td>\n",
       "    </tr>\n",
       "    <tr>\n",
       "      <th>48</th>\n",
       "      <td>6</td>\n",
       "      <td>250.0</td>\n",
       "      <td>88.0</td>\n",
       "      <td>3139.0</td>\n",
       "      <td>14.5</td>\n",
       "      <td>71</td>\n",
       "      <td>1</td>\n",
       "    </tr>\n",
       "    <tr>\n",
       "      <th>114</th>\n",
       "      <td>4</td>\n",
       "      <td>98.0</td>\n",
       "      <td>90.0</td>\n",
       "      <td>2265.0</td>\n",
       "      <td>15.5</td>\n",
       "      <td>73</td>\n",
       "      <td>2</td>\n",
       "    </tr>\n",
       "    <tr>\n",
       "      <th>...</th>\n",
       "      <td>...</td>\n",
       "      <td>...</td>\n",
       "      <td>...</td>\n",
       "      <td>...</td>\n",
       "      <td>...</td>\n",
       "      <td>...</td>\n",
       "      <td>...</td>\n",
       "    </tr>\n",
       "    <tr>\n",
       "      <th>147</th>\n",
       "      <td>4</td>\n",
       "      <td>90.0</td>\n",
       "      <td>75.0</td>\n",
       "      <td>2108.0</td>\n",
       "      <td>15.5</td>\n",
       "      <td>74</td>\n",
       "      <td>2</td>\n",
       "    </tr>\n",
       "    <tr>\n",
       "      <th>156</th>\n",
       "      <td>8</td>\n",
       "      <td>400.0</td>\n",
       "      <td>170.0</td>\n",
       "      <td>4668.0</td>\n",
       "      <td>11.5</td>\n",
       "      <td>75</td>\n",
       "      <td>1</td>\n",
       "    </tr>\n",
       "    <tr>\n",
       "      <th>395</th>\n",
       "      <td>4</td>\n",
       "      <td>135.0</td>\n",
       "      <td>84.0</td>\n",
       "      <td>2295.0</td>\n",
       "      <td>11.6</td>\n",
       "      <td>82</td>\n",
       "      <td>1</td>\n",
       "    </tr>\n",
       "    <tr>\n",
       "      <th>14</th>\n",
       "      <td>4</td>\n",
       "      <td>113.0</td>\n",
       "      <td>95.0</td>\n",
       "      <td>2372.0</td>\n",
       "      <td>15.0</td>\n",
       "      <td>70</td>\n",
       "      <td>3</td>\n",
       "    </tr>\n",
       "    <tr>\n",
       "      <th>362</th>\n",
       "      <td>6</td>\n",
       "      <td>146.0</td>\n",
       "      <td>120.0</td>\n",
       "      <td>2930.0</td>\n",
       "      <td>13.8</td>\n",
       "      <td>81</td>\n",
       "      <td>3</td>\n",
       "    </tr>\n",
       "  </tbody>\n",
       "</table>\n",
       "<p>318 rows × 7 columns</p>\n",
       "</div>"
      ],
      "text/plain": [
       "     Cylinders  Displacement  Horsepower  Weight  Acceleration  Model Year  \\\n",
       "145          4          83.0        61.0  2003.0          19.0          74   \n",
       "151          4          79.0        67.0  2000.0          16.0          74   \n",
       "388          4         156.0        92.0  2585.0          14.5          82   \n",
       "48           6         250.0        88.0  3139.0          14.5          71   \n",
       "114          4          98.0        90.0  2265.0          15.5          73   \n",
       "..         ...           ...         ...     ...           ...         ...   \n",
       "147          4          90.0        75.0  2108.0          15.5          74   \n",
       "156          8         400.0       170.0  4668.0          11.5          75   \n",
       "395          4         135.0        84.0  2295.0          11.6          82   \n",
       "14           4         113.0        95.0  2372.0          15.0          70   \n",
       "362          6         146.0       120.0  2930.0          13.8          81   \n",
       "\n",
       "     Origin  \n",
       "145       3  \n",
       "151       2  \n",
       "388       1  \n",
       "48        1  \n",
       "114       2  \n",
       "..      ...  \n",
       "147       2  \n",
       "156       1  \n",
       "395       1  \n",
       "14        3  \n",
       "362       3  \n",
       "\n",
       "[318 rows x 7 columns]"
      ]
     },
     "execution_count": 13,
     "metadata": {},
     "output_type": "execute_result"
    }
   ],
   "source": [
    "##segregate the feature and target variable\n",
    "data = strat_train_set.drop(\"MPG\", axis=1)\n",
    "data_labels = strat_train_set[\"MPG\"].copy()\n",
    "data"
   ]
  },
  {
   "cell_type": "code",
   "execution_count": 14,
   "id": "418e3781-d5ae-415f-a267-d30526eee509",
   "metadata": {},
   "outputs": [],
   "source": [
    "##preprocess the Origin column in data\n",
    "def preprocess_origin_cols(df):\n",
    "    df[\"Origin\"] = df[\"Origin\"].map({1: \"India\", 2: \"USA\", 3: \"Germany\"})\n",
    "    return df"
   ]
  },
  {
   "cell_type": "code",
   "execution_count": 15,
   "id": "2fdba099-bf07-4b96-aac6-f8ba4f605bef",
   "metadata": {},
   "outputs": [],
   "source": [
    "##creating custom attribute adder class\n",
    "acc_ix, hpower_ix, cyl_ix = 4,2, 0\n",
    "\n",
    "class CustomAttrAdder(BaseEstimator, TransformerMixin):\n",
    "    def __init__(self, acc_on_power=True): # no *args or **kargs\n",
    "        self.acc_on_power = acc_on_power\n",
    "    def fit(self, X, y=None):\n",
    "        return self  # nothing else to do\n",
    "    def transform(self, X):\n",
    "        acc_on_cyl = X[:, acc_ix] / X[:, cyl_ix]\n",
    "        if self.acc_on_power:\n",
    "            acc_on_power = X[:, acc_ix] / X[:, hpower_ix]\n",
    "            return np.c_[X, acc_on_power, acc_on_cyl]\n",
    "        \n",
    "        return np.c_[X, acc_on_cyl]"
   ]
  },
  {
   "cell_type": "code",
   "execution_count": 16,
   "id": "1d8d6ed1-e945-43fb-9019-6258479a9e14",
   "metadata": {},
   "outputs": [],
   "source": [
    "def num_pipeline_transformer(data):\n",
    "    '''\n",
    "    Function to process numerical transformations\n",
    "    Argument:\n",
    "        data: original dataframe \n",
    "    Returns:\n",
    "        num_attrs: numerical dataframe\n",
    "        num_pipeline: numerical pipeline object\n",
    "        \n",
    "    '''\n",
    "    numerics = ['float64', 'int64']\n",
    "\n",
    "    num_attrs = data.select_dtypes(include=numerics)\n",
    "\n",
    "    num_pipeline = Pipeline([\n",
    "        ('imputer', SimpleImputer(strategy=\"median\")),\n",
    "        ('attrs_adder', CustomAttrAdder()),\n",
    "        ('std_scaler', StandardScaler()),\n",
    "        ])\n",
    "    return num_attrs, num_pipeline\n",
    "\n",
    "def pipeline_transformer(data):\n",
    "    '''\n",
    "    Complete transformation pipeline for both\n",
    "    nuerical and categorical data.\n",
    "    \n",
    "    Argument:\n",
    "        data: original dataframe \n",
    "    Returns:\n",
    "        prepared_data: transformed data, ready to use\n",
    "    '''\n",
    "    cat_attrs = [\"Origin\"]\n",
    "    num_attrs, num_pipeline = num_pipeline_transformer(data)\n",
    "    full_pipeline = ColumnTransformer([\n",
    "        (\"num\", num_pipeline, list(num_attrs)),\n",
    "        (\"cat\", OneHotEncoder(), cat_attrs),\n",
    "        ])\n",
    "    prepared_data = full_pipeline.fit_transform(data)\n",
    "    return prepared_data"
   ]
  },
  {
   "cell_type": "markdown",
   "id": "5fda3472-335d-4e6c-a55c-a0099a6be361",
   "metadata": {},
   "source": [
    "## From raw data to processed data in 2 steps"
   ]
  },
  {
   "cell_type": "code",
   "execution_count": 17,
   "id": "751dcefa-c2e0-4484-946c-bf6de23dcea9",
   "metadata": {},
   "outputs": [
    {
     "data": {
      "text/plain": [
       "array([[-0.85657842, -1.07804475, -1.15192977, ...,  1.        ,\n",
       "         0.        ,  0.        ],\n",
       "       [-0.85657842, -1.1174582 , -0.9900351 , ...,  0.        ,\n",
       "         0.        ,  1.        ],\n",
       "       [-0.85657842, -0.3587492 , -0.31547399, ...,  0.        ,\n",
       "         1.        ,  0.        ],\n",
       "       ...,\n",
       "       [-0.85657842, -0.56566984, -0.53133355, ...,  0.        ,\n",
       "         1.        ,  0.        ],\n",
       "       [-0.85657842, -0.78244384, -0.23452666, ...,  1.        ,\n",
       "         0.        ,  0.        ],\n",
       "       [ 0.32260746, -0.45728283,  0.44003446, ...,  1.        ,\n",
       "         0.        ,  0.        ]])"
      ]
     },
     "execution_count": 17,
     "metadata": {},
     "output_type": "execute_result"
    }
   ],
   "source": [
    "## from raw data to processed data in two 2 steps \n",
    "preprocessed_df = preprocess_origin_cols(data)\n",
    "prepared_data = pipeline_transformer(preprocessed_df)\n",
    "prepared_data"
   ]
  },
  {
   "cell_type": "code",
   "execution_count": 18,
   "id": "1c927d18-d97e-47fd-9e96-fdf99d3bf14b",
   "metadata": {},
   "outputs": [
    {
     "data": {
      "text/plain": [
       "array([-0.85657842, -1.07804475, -1.15192977, -1.17220298,  1.21586943,\n",
       "       -0.54436373,  1.70952741,  1.29565517,  1.        ,  0.        ,\n",
       "        0.        ])"
      ]
     },
     "execution_count": 18,
     "metadata": {},
     "output_type": "execute_result"
    }
   ],
   "source": [
    "prepared_data[0]"
   ]
  },
  {
   "cell_type": "markdown",
   "id": "92dc5329-4dfd-42e9-b7b1-3ffd64d3a29f",
   "metadata": {},
   "source": [
    "## Selecting and Training models\n",
    "1. Linear Regression\n",
    "2. Decision Tree\n",
    "3. Random Forest\n",
    "4. SVM regressor"
   ]
  },
  {
   "cell_type": "markdown",
   "id": "4ca80bfc-4e54-4cef-a7ac-06a91e89237a",
   "metadata": {},
   "source": [
    "### 1. Linear Regression"
   ]
  },
  {
   "cell_type": "code",
   "execution_count": 19,
   "id": "9e3982a4-2d04-4000-b741-e9084b435589",
   "metadata": {},
   "outputs": [
    {
     "data": {
      "text/plain": [
       "LinearRegression()"
      ]
     },
     "execution_count": 19,
     "metadata": {},
     "output_type": "execute_result"
    }
   ],
   "source": [
    "from sklearn.linear_model import LinearRegression\n",
    "\n",
    "lin_reg = LinearRegression()\n",
    "lin_reg.fit(prepared_data, data_labels)"
   ]
  },
  {
   "cell_type": "code",
   "execution_count": 20,
   "id": "76735683-9da5-4ca7-a287-2f264f057f9f",
   "metadata": {},
   "outputs": [
    {
     "name": "stdout",
     "output_type": "stream",
     "text": [
      "Prediction on Sample data :  [29.08069379 27.78336755 26.08031176 12.70419279 22.23454159]\n"
     ]
    }
   ],
   "source": [
    "## testing the predictions with the \n",
    "sample_data = data.iloc[:5]\n",
    "sample_labels = data_labels.iloc[:5]\n",
    "\n",
    "sample_data_prepared = pipeline_transformer(sample_data)\n",
    "\n",
    "print(\"Prediction on Sample data : \", lin_reg.predict(sample_data_prepared))"
   ]
  },
  {
   "cell_type": "code",
   "execution_count": 21,
   "id": "2f3c06f5-8585-4ea7-adb4-55a0b1273fd0",
   "metadata": {},
   "outputs": [
    {
     "name": "stdout",
     "output_type": "stream",
     "text": [
      "Actual Labels of samples:  [32.0, 31.0, 26.0, 18.0, 26.0]\n"
     ]
    }
   ],
   "source": [
    "print(\"Actual Labels of samples: \", list(sample_labels))"
   ]
  },
  {
   "cell_type": "markdown",
   "id": "aaab2e1e-7b7d-44c2-89e9-177b551ad92e",
   "metadata": {},
   "source": [
    "#### Mean Squared Error"
   ]
  },
  {
   "cell_type": "code",
   "execution_count": 26,
   "id": "0adacab8-803c-4ba8-96db-f1e1e96fbced",
   "metadata": {},
   "outputs": [
    {
     "data": {
      "text/plain": [
       "2.9590402225760863"
      ]
     },
     "execution_count": 26,
     "metadata": {},
     "output_type": "execute_result"
    }
   ],
   "source": [
    "from sklearn.metrics import mean_squared_error\n",
    "\n",
    "mpg_predictions = lin_reg.predict(prepared_data)\n",
    "lin_mse = mean_squared_error(data_labels, mpg_predictions)\n",
    "lin_rmse = np.sqrt(lin_mse)\n",
    "lin_rmse"
   ]
  },
  {
   "cell_type": "markdown",
   "id": "408551c1-9b28-4159-8b5b-0e0c9df7eb01",
   "metadata": {},
   "source": [
    "### 2. Decision Tree"
   ]
  },
  {
   "cell_type": "code",
   "execution_count": 47,
   "id": "a3513e13-16a1-4671-8074-0fdf00886025",
   "metadata": {},
   "outputs": [
    {
     "data": {
      "text/plain": [
       "DecisionTreeRegressor()"
      ]
     },
     "execution_count": 47,
     "metadata": {},
     "output_type": "execute_result"
    }
   ],
   "source": [
    "from sklearn.tree import DecisionTreeRegressor\n",
    "\n",
    "tree_reg = DecisionTreeRegressor()\n",
    "tree_reg.fit(prepared_data, data_labels)"
   ]
  },
  {
   "cell_type": "code",
   "execution_count": 48,
   "id": "75629e14-4e63-4396-89bf-d4d65d86e743",
   "metadata": {},
   "outputs": [
    {
     "data": {
      "text/plain": [
       "0.0"
      ]
     },
     "execution_count": 48,
     "metadata": {},
     "output_type": "execute_result"
    }
   ],
   "source": [
    "mpg_predictions = tree_reg.predict(prepared_data)\n",
    "tree_mse = mean_squared_error(data_labels, mpg_predictions)\n",
    "tree_rmse = np.sqrt(tree_mse)\n",
    "tree_mse"
   ]
  },
  {
   "cell_type": "markdown",
   "id": "d59fdf49-e2fa-445b-852c-66f98381995c",
   "metadata": {},
   "source": [
    "But no model is perfect, this means that our model has overfit the data to a great extent.\n",
    "\n",
    "We won't be touching out test data until we finalize our model. So, how do we check for what's happening?"
   ]
  },
  {
   "cell_type": "markdown",
   "id": "92e1ab33-11ee-419c-911c-391f159b1fac",
   "metadata": {},
   "source": [
    "#### Model Evaluation using Cross Validation\n",
    "\n",
    "Scikit-Learn’s K-fold cross-validation feature randomly splits the training set into K distinct subsets called folds, then it trains and evaluates the model K times, picking a different fold for evaluation every time and training on the other K-1 folds.\n",
    "\n",
    "The result is an array containing the K evaluation scores:"
   ]
  },
  {
   "cell_type": "code",
   "execution_count": 49,
   "id": "b3b2b7cb-3a6b-4497-ad80-099df384a65a",
   "metadata": {},
   "outputs": [],
   "source": [
    "from sklearn.model_selection import cross_val_score\n",
    "\n",
    "scores = cross_val_score(tree_reg,\n",
    "                        prepared_data,\n",
    "                        data_labels,\n",
    "                        scoring=\"neg_mean_squared_error\",\n",
    "                        cv=10)\n",
    "tree_reg_rmse_scores = np.sqrt(-scores)"
   ]
  },
  {
   "cell_type": "code",
   "execution_count": 50,
   "id": "ab3ba50b-f45a-4b2c-a72c-8bbe20893590",
   "metadata": {},
   "outputs": [
    {
     "data": {
      "text/plain": [
       "array([3.16652412, 3.22567822, 2.91161467, 3.2069261 , 2.25963216,\n",
       "       2.97331885, 3.55184811, 4.68484925, 4.17577499, 2.66119061])"
      ]
     },
     "execution_count": 50,
     "metadata": {},
     "output_type": "execute_result"
    }
   ],
   "source": [
    "tree_reg_rmse_scores"
   ]
  },
  {
   "cell_type": "code",
   "execution_count": 51,
   "id": "0b3ee9c5-66d3-4efc-9e48-be43a955e06d",
   "metadata": {},
   "outputs": [
    {
     "data": {
      "text/plain": [
       "3.2817357092348765"
      ]
     },
     "execution_count": 51,
     "metadata": {},
     "output_type": "execute_result"
    }
   ],
   "source": [
    "tree_reg_rmse_scores.mean()"
   ]
  },
  {
   "cell_type": "code",
   "execution_count": 52,
   "id": "1faa47f5-42b8-40d6-8817-3ffff5232844",
   "metadata": {},
   "outputs": [
    {
     "data": {
      "text/plain": [
       "array([3.43254597, 3.45157629, 3.6621715 , 2.59652976, 2.48023405,\n",
       "       2.74798115, 3.32524647, 2.42208917, 3.78133275, 2.8573747 ])"
      ]
     },
     "execution_count": 52,
     "metadata": {},
     "output_type": "execute_result"
    }
   ],
   "source": [
    "## Cross-validation evaluation for Linear Model\n",
    "scores = cross_val_score(lin_reg, prepared_data, \n",
    "                         data_labels, \n",
    "                         scoring=\"neg_mean_squared_error\", \n",
    "                         cv = 10)\n",
    "lin_reg_rmse_scores = np.sqrt(-scores)\n",
    "lin_reg_rmse_scores"
   ]
  },
  {
   "cell_type": "code",
   "execution_count": 53,
   "id": "7688711a-b194-4d6f-9537-4a388b3aec7f",
   "metadata": {},
   "outputs": [
    {
     "data": {
      "text/plain": [
       "3.075708179370932"
      ]
     },
     "execution_count": 53,
     "metadata": {},
     "output_type": "execute_result"
    }
   ],
   "source": [
    "lin_reg_rmse_scores.mean()"
   ]
  },
  {
   "cell_type": "markdown",
   "id": "69b2790b-288c-4e96-b71c-2dee6f072d68",
   "metadata": {},
   "source": [
    "### 3. Random Forrest"
   ]
  },
  {
   "cell_type": "code",
   "execution_count": 54,
   "id": "c77e2b0a-9d8c-44dd-b65f-826902705662",
   "metadata": {},
   "outputs": [
    {
     "data": {
      "text/plain": [
       "2.57609323277891"
      ]
     },
     "execution_count": 54,
     "metadata": {},
     "output_type": "execute_result"
    }
   ],
   "source": [
    "from sklearn.ensemble import RandomForestRegressor\n",
    "\n",
    "forest_reg = RandomForestRegressor()\n",
    "forest_reg.fit(prepared_data, data_labels)\n",
    "forest_reg_cv_scores = cross_val_score(forest_reg,\n",
    "                                      prepared_data,\n",
    "                                      data_labels,\n",
    "                                      scoring=\"neg_mean_squared_error\",\n",
    "                                      cv=10)\n",
    "\n",
    "forrest_reg_rmse_scores = np.sqrt(-forest_reg_cv_scores)\n",
    "forrest_reg_rmse_scores.mean()"
   ]
  },
  {
   "cell_type": "markdown",
   "id": "25c20d51-091b-4177-a0b8-8c4d22463b91",
   "metadata": {},
   "source": [
    "### 4. Support Vector Machine Regressor"
   ]
  },
  {
   "cell_type": "code",
   "execution_count": 55,
   "id": "b8771ba9-de8a-47e9-b0f4-f8989b543a52",
   "metadata": {},
   "outputs": [
    {
     "data": {
      "text/plain": [
       "3.086591620802831"
      ]
     },
     "execution_count": 55,
     "metadata": {},
     "output_type": "execute_result"
    }
   ],
   "source": [
    "from sklearn.svm import SVR\n",
    "\n",
    "svm_reg = SVR(kernel='linear')\n",
    "svm_reg.fit(prepared_data, data_labels)\n",
    "svm_cv_score = cross_val_score(svm_reg, \n",
    "                               prepared_data, \n",
    "                               data_labels,\n",
    "                               scoring=\"neg_mean_squared_error\",\n",
    "                               cv=10)\n",
    "svm_rmse_scores = np.sqrt(-svm_cv_score)\n",
    "svm_rmse_scores.mean()"
   ]
  },
  {
   "cell_type": "markdown",
   "id": "40ad14d0-2196-468a-9742-719dca07ca7e",
   "metadata": {},
   "source": [
    "## Hyperparameter Tuning using GridSearchCV"
   ]
  },
  {
   "cell_type": "code",
   "execution_count": 56,
   "id": "2e288cd1-cbd2-4c78-a660-3e793f7f33a7",
   "metadata": {},
   "outputs": [
    {
     "data": {
      "text/plain": [
       "GridSearchCV(cv=10, estimator=RandomForestRegressor(),\n",
       "             param_grid=[{'max_features': [2, 4, 6, 8],\n",
       "                          'n_estimators': [3, 10, 30]},\n",
       "                         {'bootstrap': [False], 'max_features': [2, 3, 4],\n",
       "                          'n_estimators': [3, 10]}],\n",
       "             return_train_score=True, scoring='neg_mean_squared_error')"
      ]
     },
     "execution_count": 56,
     "metadata": {},
     "output_type": "execute_result"
    }
   ],
   "source": [
    "from sklearn.model_selection import GridSearchCV\n",
    "\n",
    "param_grid = [\n",
    "    {'n_estimators': [3, 10, 30], 'max_features': [2, 4, 6, 8]},\n",
    "    {'bootstrap': [False], 'n_estimators': [3, 10], 'max_features': [2, 3, 4]},\n",
    "]\n",
    "\n",
    "forrest_reg = RandomForestRegressor()\n",
    "\n",
    "grid_search = GridSearchCV(forest_reg, param_grid,\n",
    "                          scoring='neg_mean_squared_error',\n",
    "                          return_train_score=True,\n",
    "                          cv=10,\n",
    "                          )\n",
    "\n",
    "grid_search.fit(prepared_data, data_labels)"
   ]
  },
  {
   "cell_type": "code",
   "execution_count": 57,
   "id": "75662336-c985-40ab-890a-0b67a819ecc5",
   "metadata": {},
   "outputs": [
    {
     "data": {
      "text/plain": [
       "{'max_features': 8, 'n_estimators': 10}"
      ]
     },
     "execution_count": 57,
     "metadata": {},
     "output_type": "execute_result"
    }
   ],
   "source": [
    "grid_search.best_params_"
   ]
  },
  {
   "cell_type": "code",
   "execution_count": 58,
   "id": "37b8e176-1c7a-4a8a-80d8-caf3edcf2be7",
   "metadata": {},
   "outputs": [
    {
     "name": "stdout",
     "output_type": "stream",
     "text": [
      "3.3344840755623966 {'max_features': 2, 'n_estimators': 3}\n",
      "3.152297923353794 {'max_features': 2, 'n_estimators': 10}\n",
      "2.8831076649763667 {'max_features': 2, 'n_estimators': 30}\n",
      "3.0912244814640792 {'max_features': 4, 'n_estimators': 3}\n",
      "2.93081663004556 {'max_features': 4, 'n_estimators': 10}\n",
      "2.7344913635762533 {'max_features': 4, 'n_estimators': 30}\n",
      "3.1944381584011707 {'max_features': 6, 'n_estimators': 3}\n",
      "2.7402437880862283 {'max_features': 6, 'n_estimators': 10}\n",
      "2.7024456464466047 {'max_features': 6, 'n_estimators': 30}\n",
      "3.08906603442752 {'max_features': 8, 'n_estimators': 3}\n",
      "2.671255088904839 {'max_features': 8, 'n_estimators': 10}\n",
      "2.705762051956904 {'max_features': 8, 'n_estimators': 30}\n",
      "3.367991727954493 {'bootstrap': False, 'max_features': 2, 'n_estimators': 3}\n",
      "3.073729554137092 {'bootstrap': False, 'max_features': 2, 'n_estimators': 10}\n",
      "3.192791973636485 {'bootstrap': False, 'max_features': 3, 'n_estimators': 3}\n",
      "2.851355008248625 {'bootstrap': False, 'max_features': 3, 'n_estimators': 10}\n",
      "3.2232185592702787 {'bootstrap': False, 'max_features': 4, 'n_estimators': 3}\n",
      "2.8669285277920236 {'bootstrap': False, 'max_features': 4, 'n_estimators': 10}\n"
     ]
    }
   ],
   "source": [
    "cv_scores = grid_search.cv_results_\n",
    "\n",
    "## printing all the parameters along with their scores\n",
    "\n",
    "for mean_score, params in zip(cv_scores['mean_test_score'], cv_scores[\"params\"]):\n",
    "    print(np.sqrt(-mean_score), params)"
   ]
  },
  {
   "cell_type": "markdown",
   "id": "7f9c1c26-dd17-4565-8fd6-eeddc3131566",
   "metadata": {},
   "source": [
    "### Checking Feature importance "
   ]
  },
  {
   "cell_type": "code",
   "execution_count": 59,
   "id": "1b71bc14-0ee3-41c8-bb03-44cf41ff4cf7",
   "metadata": {},
   "outputs": [
    {
     "data": {
      "text/plain": [
       "array([0.12622476, 0.295405  , 0.15929424, 0.23948901, 0.01700968,\n",
       "       0.11265794, 0.02626374, 0.01778286, 0.0018543 , 0.00143576,\n",
       "       0.00258272])"
      ]
     },
     "execution_count": 59,
     "metadata": {},
     "output_type": "execute_result"
    }
   ],
   "source": [
    "feature_importance = grid_search.best_estimator_.feature_importances_\n",
    "feature_importance"
   ]
  },
  {
   "cell_type": "code",
   "execution_count": 60,
   "id": "2a69c705-6f5f-4ad8-9074-dea3c011d6ff",
   "metadata": {},
   "outputs": [
    {
     "data": {
      "text/plain": [
       "[('acc_on_power', 0.026263743002759153),\n",
       " ('acc_on_cyl', 0.01778285612926325),\n",
       " ('Weight', 0.23948900585904026),\n",
       " ('Model Year', 0.11265794228292969),\n",
       " ('Horsepower', 0.1592942361838274),\n",
       " ('Displacement', 0.2954050015000301),\n",
       " ('Cylinders', 0.12622475506325048),\n",
       " ('Acceleration', 0.017009683003898244)]"
      ]
     },
     "execution_count": 60,
     "metadata": {},
     "output_type": "execute_result"
    }
   ],
   "source": [
    "extra_attrs = [\"acc_on_power\", \"acc_on_cyl\"]\n",
    "numerics = ['float64', 'int64']\n",
    "num_attrs = list(data.select_dtypes(include=numerics))\n",
    "\n",
    "attrs = num_attrs + extra_attrs\n",
    "sorted(zip(attrs, feature_importance), reverse=True)"
   ]
  },
  {
   "cell_type": "markdown",
   "id": "3babe7c7-bb3e-4df6-915c-9ab35f6bcbdb",
   "metadata": {},
   "source": [
    "## Evaluating the entire system on Test Data"
   ]
  },
  {
   "cell_type": "code",
   "execution_count": 61,
   "id": "4b28ba71-1350-44d0-bc8a-0679855cfe44",
   "metadata": {},
   "outputs": [],
   "source": [
    "final_model = grid_search.best_estimator_\n",
    "\n",
    "X_test = strat_test_set.drop(\"MPG\", axis = 1)\n",
    "y_test = strat_test_set[\"MPG\"].copy()\n",
    "\n",
    "X_test_preprocessed = preprocess_origin_cols(X_test)\n",
    "X_test_prepared = pipeline_transformer(X_test_preprocessed)\n",
    "\n",
    "final_predictions = final_model.predict(X_test_prepared)\n",
    "final_mse = mean_squared_error(y_test, final_predictions)\n",
    "final_rmse = np.sqrt(final_mse)"
   ]
  },
  {
   "cell_type": "code",
   "execution_count": 62,
   "id": "230c13e0-2778-45a2-9b24-a6487f16543e",
   "metadata": {},
   "outputs": [
    {
     "data": {
      "text/plain": [
       "3.239769281908821"
      ]
     },
     "execution_count": 62,
     "metadata": {},
     "output_type": "execute_result"
    }
   ],
   "source": [
    "final_rmse"
   ]
  },
  {
   "cell_type": "markdown",
   "id": "e9a6be23-bc6c-480e-988c-db245cc1ed1a",
   "metadata": {},
   "source": [
    "## Creating a function to cover this entire flow"
   ]
  },
  {
   "cell_type": "code",
   "execution_count": 63,
   "id": "b38c759e-e364-4c94-a3a0-5c463cbf858c",
   "metadata": {},
   "outputs": [],
   "source": [
    "def predict_mpg(config, model):\n",
    "    \n",
    "    if type(config) == dict:\n",
    "        df = pd.DataFrame(config)\n",
    "    else:\n",
    "        df = config\n",
    "    \n",
    "    preproc_df = preprocess_origin_cols(df)\n",
    "    prepared_df = pipeline_transformer(preproc_df)\n",
    "    y_pred = model.predict(prepared_df)\n",
    "    return y_pred"
   ]
  },
  {
   "cell_type": "code",
   "execution_count": 64,
   "id": "67d8be69-093a-4f15-95d3-390bdad0abb5",
   "metadata": {},
   "outputs": [
    {
     "data": {
      "text/plain": [
       "array([36.3 , 16.39, 20.04])"
      ]
     },
     "execution_count": 64,
     "metadata": {},
     "output_type": "execute_result"
    }
   ],
   "source": [
    "## checking it on a random example \n",
    "vehicle_config = {\n",
    "    'Cylinders' : [4, 6, 8],\n",
    "    'Displacement' : [155.0, 160.0, 165.5],\n",
    "    'Horsepower' : [93.0, 130.0, 98.0],\n",
    "    'Weight' : [2500.0, 3150.0, 2600.0],\n",
    "    'Accelaration' : [15.0, 14.0, 16.0],\n",
    "    'Model Year' : [81, 80, 78],\n",
    "    'Origin' : [3, 2, 1]\n",
    "}\n",
    "\n",
    "predict_mpg(vehicle_config, final_model)"
   ]
  },
  {
   "cell_type": "markdown",
   "id": "b91494c3-2c16-4a15-b4e0-6bcf42a1ad26",
   "metadata": {},
   "source": [
    "## Save the Model"
   ]
  },
  {
   "cell_type": "code",
   "execution_count": 65,
   "id": "770c1553-f8b5-4ce8-801a-12f1ffb0ae22",
   "metadata": {},
   "outputs": [],
   "source": [
    "import pickle"
   ]
  },
  {
   "cell_type": "code",
   "execution_count": 66,
   "id": "0cd31761-090b-40bb-adb4-c43b997cdb6f",
   "metadata": {},
   "outputs": [],
   "source": [
    "## Saving the model\n",
    "with open(\"model.bin\", 'wb') as f_out:\n",
    "    pickle.dump(final_model, f_out)\n",
    "    f_out.close()"
   ]
  },
  {
   "cell_type": "code",
   "execution_count": 67,
   "id": "803765d4-f657-4ebe-a76f-de56fe377a3c",
   "metadata": {},
   "outputs": [
    {
     "data": {
      "text/plain": [
       "array([36.3 , 16.39, 20.04])"
      ]
     },
     "execution_count": 67,
     "metadata": {},
     "output_type": "execute_result"
    }
   ],
   "source": [
    "## loading the model from the saved file\n",
    "with open(\"model.bin\", 'rb') as f_in:\n",
    "    model = pickle.load(f_in)\n",
    "    \n",
    "predict_mpg(vehicle_config, model)"
   ]
  },
  {
   "cell_type": "code",
   "execution_count": null,
   "id": "57b0cb8b-91cf-464c-8d6d-7b7a8d077432",
   "metadata": {},
   "outputs": [],
   "source": []
  }
 ],
 "metadata": {
  "kernelspec": {
   "display_name": "Python 3",
   "language": "python",
   "name": "python3"
  },
  "language_info": {
   "codemirror_mode": {
    "name": "ipython",
    "version": 3
   },
   "file_extension": ".py",
   "mimetype": "text/x-python",
   "name": "python",
   "nbconvert_exporter": "python",
   "pygments_lexer": "ipython3",
   "version": "3.8.10"
  }
 },
 "nbformat": 4,
 "nbformat_minor": 5
}
