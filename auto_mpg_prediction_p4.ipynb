{
 "cells": [
  {
   "cell_type": "markdown",
   "id": "5e488476-3290-434c-b3ed-a0311b92e1a1",
   "metadata": {},
   "source": [
    "# Predicting Fuel Efficiency of Vehicles - Part 4\n",
    "## Deploying the Trained Model\n",
    "\n",
    "1. Start a Flask Project.\n",
    "2. Set up a dedicated environment with dependencies installed using pip.\n",
    " \n",
    " Packages to install:\n",
    "*     pandas\n",
    "*     numpy\n",
    "*     sklearn\n",
    "*     flask\n",
    "*     matplotlib\n",
    "*     gunicorn\n",
    "*     seaborn\n",
    "3. Create a quick flask application to test a simple endpoint.\n",
    "4. Define a function that accepts data from the POST request and return the predictions using a helper module.\n",
    "5. Test the endpoint using requests package\n",
    "\n"
   ]
  },
  {
   "cell_type": "code",
   "execution_count": null,
   "id": "061e56ac-ddf7-48a2-b4f2-9660c479b632",
   "metadata": {},
   "outputs": [],
   "source": []
  }
 ],
 "metadata": {
  "kernelspec": {
   "display_name": "Python 3",
   "language": "python",
   "name": "python3"
  },
  "language_info": {
   "codemirror_mode": {
    "name": "ipython",
    "version": 3
   },
   "file_extension": ".py",
   "mimetype": "text/x-python",
   "name": "python",
   "nbconvert_exporter": "python",
   "pygments_lexer": "ipython3",
   "version": "3.8.10"
  }
 },
 "nbformat": 4,
 "nbformat_minor": 5
}
